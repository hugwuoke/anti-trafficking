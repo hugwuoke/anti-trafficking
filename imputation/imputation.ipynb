{
 "cells": [
  {
   "cell_type": "code",
   "execution_count": 2,
   "metadata": {},
   "outputs": [],
   "source": [
    "import pandas as pd\n",
    "import numpy as np\n",
    "import matplotlib.pyplot as plt\n",
    "from sklearn.impute import KNNImputer\n",
    "from sklearn.experimental import enable_iterative_imputer\n",
    "from sklearn.impute import IterativeImputer\n",
    "from sklearn.linear_model import LogisticRegression"
   ]
  },
  {
   "cell_type": "code",
   "execution_count": 3,
   "metadata": {},
   "outputs": [],
   "source": [
    "input_file = \"../simple_gen_missing_data.csv\"\n",
    "\n",
    "df = pd.read_csv(input_file)\n",
    "vars = df.columns[1:]\n",
    "year_col = \"t\""
   ]
  },
  {
   "cell_type": "code",
   "execution_count": 5,
   "metadata": {},
   "outputs": [
    {
     "name": "stderr",
     "output_type": "stream",
     "text": [
      "C:\\Users\\ryanr\\AppData\\Local\\Temp\\ipykernel_29708\\2462068381.py:11: DeprecationWarning: DataFrameGroupBy.apply operated on the grouping columns. This behavior is deprecated, and in a future version of pandas the grouping columns will be excluded from the operation. Either pass `include_groups=False` to exclude the groupings or explicitly select the grouping columns after groupby to silence this warning.\n",
      "  df_popular_imp = df_popular_imp.groupby(year_col, group_keys=False).apply(mode_impute)\n"
     ]
    }
   ],
   "source": [
    "# Imputation by most common value per variable (aka popularity)\n",
    "output_file = \"../simple_gen_popularity_imputation.csv\"\n",
    "df_popular_imp = df.copy()\n",
    "\n",
    "def mode_impute(group):\n",
    "    for var in vars:\n",
    "        mode_values = group[var].mode()\n",
    "        group[var] = group[var].fillna(mode_values.iloc[0])\n",
    "    return group\n",
    "\n",
    "df_popular_imp = df_popular_imp.groupby(year_col, group_keys=False).apply(mode_impute)\n",
    "df_popular_imp.to_csv(output_file, index=False, na_rep='')"
   ]
  },
  {
   "cell_type": "code",
   "execution_count": 6,
   "metadata": {},
   "outputs": [
    {
     "name": "stdout",
     "output_type": "stream",
     "text": [
      "Variable X1: values [0.0, 1.0] probability [0.7846034214618973, 0.21539657853810265]\n",
      "Variable X2: values [0.0, 1.0] probability [0.8967811158798283, 0.10321888412017168]\n",
      "Variable X3: values [0.0, 1.0] probability [0.8286001507916562, 0.1713998492083438]\n",
      "Variable X4: values [0.0, 1.0] probability [0.9620770128354725, 0.037922987164527425]\n",
      "Variable X5: values [0.0, 1.0] probability [0.858554342173687, 0.14144565782631305]\n",
      "Variable X6: values [0.0, 1.0] probability [0.8626160990712074, 0.13738390092879257]\n",
      "Variable X7: values [0.0, 1.0] probability [0.9144736842105263, 0.08552631578947369]\n",
      "Variable X1: values [0.0, 1.0] probability [0.8015151515151515, 0.1984848484848485]\n",
      "Variable X2: values [0.0, 1.0] probability [0.9041037635551775, 0.09589623644482245]\n",
      "Variable X3: values [0.0, 1.0] probability [0.8254764292878636, 0.17452357071213642]\n",
      "Variable X4: values [0.0, 1.0] probability [0.9414985590778098, 0.0585014409221902]\n",
      "Variable X5: values [0.0, 1.0] probability [0.8650793650793651, 0.1349206349206349]\n",
      "Variable X6: values [0.0, 1.0] probability [0.898743814236772, 0.10125618576322802]\n",
      "Variable X7: values [0.0, 1.0] probability [0.9067245119305857, 0.09327548806941431]\n",
      "Variable X1: values [0.0, 1.0] probability [0.7940046118370484, 0.20599538816295157]\n",
      "Variable X2: values [0.0, 1.0] probability [0.8916507329509241, 0.10834926704907584]\n",
      "Variable X3: values [0.0, 1.0] probability [0.8211548288196219, 0.17884517118037813]\n",
      "Variable X4: values [0.0, 1.0] probability [0.9210138520483349, 0.0789861479516652]\n",
      "Variable X5: values [0.0, 1.0] probability [0.8743987172634955, 0.12560128273650453]\n",
      "Variable X6: values [0.0, 1.0] probability [0.94082171127026, 0.05917828872973992]\n",
      "Variable X7: values [0.0, 1.0] probability [0.892933618843683, 0.10706638115631692]\n",
      "Variable X1: values [0.0, 1.0] probability [0.7895545314900153, 0.21044546850998463]\n",
      "Variable X2: values [0.0, 1.0] probability [0.9039077514413837, 0.09609224855861627]\n",
      "Variable X3: values [0.0, 1.0] probability [0.8234850389741011, 0.17651496102589892]\n",
      "Variable X4: values [0.0, 1.0] probability [0.9011150234741784, 0.0988849765258216]\n",
      "Variable X5: values [0.0, 1.0] probability [0.9133900106269925, 0.08660998937300744]\n",
      "Variable X6: values [0.0, 1.0] probability [0.9808429118773946, 0.019157088122605363]\n",
      "Variable X7: values [0.0, 1.0] probability [0.892018779342723, 0.107981220657277]\n",
      "Variable X1: values [0.0, 1.0] probability [0.8118361153262519, 0.18816388467374812]\n",
      "Variable X2: values [0.0, 1.0] probability [0.8986313088109495, 0.10136869118905047]\n",
      "Variable X3: values [0.0, 1.0] probability [0.8251625812906453, 0.17483741870935468]\n",
      "Variable X4: values [0.0, 1.0] probability [0.8879976232917409, 0.11200237670825906]\n",
      "Variable X5: values [0.0, 1.0] probability [0.9164054336468129, 0.08359456635318704]\n",
      "Variable X6: values [0.0, 1.0] probability [0.9417401303181295, 0.05825986968187045]\n",
      "Variable X7: values [0.0, 1.0] probability [0.8891257995735607, 0.11087420042643924]\n",
      "Variable X1: values [0.0, 1.0] probability [0.806477093206951, 0.19352290679304898]\n",
      "Variable X2: values [0.0, 1.0] probability [0.902929228137695, 0.0970707718623049]\n",
      "Variable X3: values [0.0, 1.0] probability [0.824906600249066, 0.175093399750934]\n",
      "Variable X4: values [0.0, 1.0] probability [0.8606820169046925, 0.1393179830953075]\n",
      "Variable X5: values [0.0, 1.0] probability [0.9446764091858038, 0.055323590814196244]\n",
      "Variable X6: values [0.0, 1.0] probability [0.9001536098310292, 0.09984639016897082]\n",
      "Variable X7: values [0.0, 1.0] probability [0.9180672268907563, 0.0819327731092437]\n",
      "Variable X1: values [0.0, 1.0] probability [0.8149847094801224, 0.18501529051987767]\n",
      "Variable X2: values [0.0, 1.0] probability [0.8921988855550793, 0.1078011144449207]\n",
      "Variable X3: values [0.0, 1.0] probability [0.8326633165829146, 0.16733668341708544]\n",
      "Variable X4: values [0.0, 1.0] probability [0.8511887290871735, 0.14881127091282653]\n",
      "Variable X5: values [0.0, 1.0] probability [0.9703546850185283, 0.029645314981471677]\n",
      "Variable X6: values [0.0, 1.0] probability [0.8605263157894737, 0.1394736842105263]\n",
      "Variable X7: values [0.0, 1.0] probability [0.8969957081545065, 0.10300429184549356]\n",
      "Variable X1: values [0.0, 1.0] probability [0.8068513119533528, 0.19314868804664723]\n",
      "Variable X2: values [0.0, 1.0] probability [0.9043552519214346, 0.09564474807856532]\n",
      "Variable X3: values [0.0, 1.0] probability [0.822216712124969, 0.177783287875031]\n",
      "Variable X4: values [0.0, 1.0] probability [0.815689705453485, 0.184310294546515]\n",
      "Variable X5: values [0.0, 1.0] probability [0.9779600205023065, 0.022039979497693492]\n",
      "Variable X6: values [0.0, 1.0] probability [0.8267986296155311, 0.17320137038446898]\n",
      "Variable X7: values [0.0, 1.0] probability [0.7963340122199593, 0.20366598778004075]\n"
     ]
    },
    {
     "name": "stderr",
     "output_type": "stream",
     "text": [
      "C:\\Users\\ryanr\\AppData\\Local\\Temp\\ipykernel_29708\\2396861610.py:25: DeprecationWarning: DataFrameGroupBy.apply operated on the grouping columns. This behavior is deprecated, and in a future version of pandas the grouping columns will be excluded from the operation. Either pass `include_groups=False` to exclude the groupings or explicitly select the grouping columns after groupby to silence this warning.\n",
      "  df_prob_imp = df_prob_imp.groupby(year_col, group_keys=False).apply(prob_impute)\n"
     ]
    }
   ],
   "source": [
    "# Imputation by probability distribution of existing values\n",
    "output_file = \"../simple_gen_probability_imputation.csv\"\n",
    "df_prob_imp = df.copy()\n",
    "\n",
    "def prob_impute(group):\n",
    "    for var in vars:\n",
    "        # Get the distribution of non-missing values\n",
    "        freq_table = group[var].value_counts(dropna=True)\n",
    "        distinct_vals = freq_table.index.to_list()\n",
    "        probabilities = (freq_table / freq_table.sum()).to_list()\n",
    "\n",
    "        print(f'Variable {var}: values {distinct_vals} probability {probabilities}')\n",
    "        \n",
    "        # Identify which rows are missing\n",
    "        missing_mask = group[var].isna()\n",
    "        n_missing = missing_mask.sum()\n",
    "        \n",
    "        # Randomly sample from the distinct values, using the same distribution\n",
    "        random_draws = np.random.choice(distinct_vals, size=n_missing, p=probabilities)\n",
    "        \n",
    "        # Fill in the missing values\n",
    "        group.loc[missing_mask, var] = random_draws\n",
    "    return group\n",
    "\n",
    "df_prob_imp = df_prob_imp.groupby(year_col, group_keys=False).apply(prob_impute)\n",
    "df_prob_imp.to_csv(output_file, index=False)"
   ]
  },
  {
   "cell_type": "code",
   "execution_count": null,
   "metadata": {},
   "outputs": [
    {
     "name": "stderr",
     "output_type": "stream",
     "text": [
      "C:\\Users\\ryanr\\AppData\\Local\\Temp\\ipykernel_29708\\1486330587.py:25: DeprecationWarning: DataFrameGroupBy.apply operated on the grouping columns. This behavior is deprecated, and in a future version of pandas the grouping columns will be excluded from the operation. Either pass `include_groups=False` to exclude the groupings or explicitly select the grouping columns after groupby to silence this warning.\n",
      "  df_logreg_imputed = df_logreg_imputed.groupby(year_col, group_keys=False).apply(logreg_impute)\n"
     ]
    }
   ],
   "source": [
    "output_file = \"../simple_gen_logreg_imputation.csv\"\n",
    "df_logreg_imputed = df.copy()\n",
    "def logreg_impute(group):\n",
    "    constant_cols = [\n",
    "        col for col in vars \n",
    "        if group[col].dropna().nunique() <= 1\n",
    "    ]\n",
    "    # Columns that can be processed by IterativeImputer (i.e., have more than one unique value)\n",
    "    non_constant_cols = [col for col in vars if col not in constant_cols]\n",
    "\n",
    "    # For constant columns, fill missing values with the constant value\n",
    "    for col in constant_cols:\n",
    "        non_missing = group[col].dropna()\n",
    "        if not non_missing.empty:\n",
    "            group[col] = group[col].fillna(non_missing.iloc[0])\n",
    "    imputer = IterativeImputer(\n",
    "        estimator=LogisticRegression(),\n",
    "        max_iter=10,\n",
    "        random_state=0\n",
    "    )\n",
    "\n",
    "    group[non_constant_cols] = imputer.fit_transform(group[non_constant_cols])\n",
    "    return group\n",
    "\n",
    "df_logreg_imputed = df_logreg_imputed.groupby(year_col, group_keys=False).apply(logreg_impute)\n",
    "df_logreg_imputed.to_csv(output_file, index=False)"
   ]
  },
  {
   "cell_type": "code",
   "execution_count": 9,
   "metadata": {},
   "outputs": [
    {
     "name": "stderr",
     "output_type": "stream",
     "text": [
      "C:\\Users\\ryanr\\AppData\\Local\\Temp\\ipykernel_29708\\2999782347.py:21: DeprecationWarning: DataFrameGroupBy.apply operated on the grouping columns. This behavior is deprecated, and in a future version of pandas the grouping columns will be excluded from the operation. Either pass `include_groups=False` to exclude the groupings or explicitly select the grouping columns after groupby to silence this warning.\n",
      "  df_KNN_imputed = df_KNN_imputed.groupby(year_col, group_keys=False).apply(KNN_impute)\n"
     ]
    }
   ],
   "source": [
    "output_file = \"../simple_gen_KNN_imputation.csv\"\n",
    "df_KNN_imputed = df.copy()\n",
    "def KNN_impute(group):\n",
    "    constant_cols = [\n",
    "        col for col in vars \n",
    "        if group[col].dropna().nunique() <= 1\n",
    "    ]\n",
    "    # Columns that can be processed by IterativeImputer (i.e., have more than one unique value)\n",
    "    non_constant_cols = [col for col in vars if col not in constant_cols]\n",
    "\n",
    "    # For constant columns, fill missing values with the constant value\n",
    "    for col in constant_cols:\n",
    "        non_missing = group[col].dropna()\n",
    "        if not non_missing.empty:\n",
    "            group[col] = group[col].fillna(non_missing.iloc[0])\n",
    "    imputer = KNNImputer(n_neighbors=4)\n",
    "\n",
    "    group[non_constant_cols] = imputer.fit_transform(group[non_constant_cols])\n",
    "    return group\n",
    "\n",
    "df_KNN_imputed = df_KNN_imputed.groupby(year_col, group_keys=False).apply(KNN_impute)\n",
    "df_KNN_imputed.to_csv(output_file, index=False)"
   ]
  },
  {
   "cell_type": "code",
   "execution_count": 11,
   "metadata": {},
   "outputs": [],
   "source": [
    "def compute_graph_covariance(df: pd.DataFrame, time_col: str = 't') -> dict:\n",
    "    \"\"\"\n",
    "    Computes a 'graph covariance'-like matrix for each unique time step in `df`,\n",
    "    returning each matrix as a DataFrame (so .loc indexing is supported).\n",
    "    \n",
    "    Steps:\n",
    "      1. Split the data by unique time values,\n",
    "      2. For each time step, convert the sub-DataFrame (minus the time column)\n",
    "         to a NumPy array,\n",
    "      3. Subtract the mean from each column (center the data),\n",
    "      4. Normalize each column by its standard deviation,\n",
    "      5. Compute the covariance-like matrix for that time step,\n",
    "      6. Return a dictionary keyed by time with the resulting DataFrame.\n",
    "\n",
    "    Returns\n",
    "    -------\n",
    "    dict\n",
    "        Dictionary where each key is a unique time value and the value is a\n",
    "        DataFrame containing the covariance-like matrix.\n",
    "    \"\"\"\n",
    "    # Identify all columns other than time_col\n",
    "    other_cols = [col for col in df.columns if col != time_col]\n",
    "    \n",
    "    # Split data into time steps\n",
    "    unique_times = df[time_col].unique()\n",
    "    gc_dict = {}\n",
    "\n",
    "    for t_value in unique_times:\n",
    "        # Subset the DataFrame to the current time step\n",
    "        subset_df = df[df[time_col] == t_value].drop(columns=[time_col])\n",
    "        data_t = subset_df.values.astype(float)\n",
    "\n",
    "        if data_t.shape[0] < 2:\n",
    "            continue\n",
    "\n",
    "        # Mean-center the data\n",
    "        n = data_t.shape[0]\n",
    "        mean = data_t.mean(axis=0, keepdims=True)\n",
    "        data_centered = data_t - mean\n",
    "\n",
    "        # Normalize each column\n",
    "        stds = data_centered.std(axis=0, ddof=1, keepdims=True)\n",
    "        \n",
    "        # Avoid division by zero\n",
    "        stds[stds == 0] = 1.0\n",
    "        data_centered /= stds\n",
    "\n",
    "        # Compute the covariance-like matrix\n",
    "        graph_covariance = (data_centered.T @ data_centered) / (n - 1)\n",
    "\n",
    "        # Convert to DataFrame\n",
    "        cov_df = pd.DataFrame(graph_covariance, \n",
    "                              index=subset_df.columns, \n",
    "                              columns=subset_df.columns)\n",
    "        \n",
    "        # Store the DataFrame\n",
    "        gc_dict[t_value] = cov_df\n",
    "\n",
    "    return gc_dict"
   ]
  },
  {
   "cell_type": "code",
   "execution_count": 26,
   "metadata": {},
   "outputs": [],
   "source": [
    "df1 = pd.read_csv(r\"C:\\Users\\ryanr\\Desktop\\anti-trafficking\\simple_gen_data.csv\") # Original \"ground truth\"\n",
    "df2 = pd.read_csv(r\"C:\\Users\\ryanr\\Desktop\\anti-trafficking\\simple_gen_KNN_imputation.csv\") # Imputed dataset"
   ]
  },
  {
   "cell_type": "code",
   "execution_count": 27,
   "metadata": {},
   "outputs": [],
   "source": [
    "# Compute graph covariance for both datasets\n",
    "gc_matrices1 = compute_graph_covariance(df1, time_col=\"t\")\n",
    "gc_matrices2 = compute_graph_covariance(df2, time_col=\"t\")\n",
    "\n",
    "# Ensure times are aligned (using intersection of time points)\n",
    "times1 = sorted(gc_matrices1.keys())\n",
    "times2 = sorted(gc_matrices2.keys())\n",
    "common_times = sorted(set(times1) & set(times2))"
   ]
  },
  {
   "cell_type": "code",
   "execution_count": 28,
   "metadata": {},
   "outputs": [],
   "source": [
    "# Extract covariance values for both datasets\n",
    "gc1_12 = [gc_matrices1[t].loc[\"X1\",\"X2\"] for t in common_times]\n",
    "gc1_13 = [gc_matrices1[t].loc[\"X1\",\"X3\"] for t in common_times]\n",
    "gc1_14 = [gc_matrices1[t].loc[\"X1\",\"X4\"] for t in common_times]\n",
    "gc1_15 = [gc_matrices1[t].loc[\"X1\",\"X5\"] for t in common_times]\n",
    "gc1_16 = [gc_matrices1[t].loc[\"X1\",\"X6\"] for t in common_times]\n",
    "gc1_17 = [gc_matrices1[t].loc[\"X1\",\"X7\"] for t in common_times]\n",
    "\n",
    "gc2_12 = [gc_matrices2[t].loc[\"X1\",\"X2\"] for t in common_times]\n",
    "gc2_13 = [gc_matrices2[t].loc[\"X1\",\"X3\"] for t in common_times]\n",
    "gc2_14 = [gc_matrices2[t].loc[\"X1\",\"X4\"] for t in common_times]\n",
    "gc2_15 = [gc_matrices2[t].loc[\"X1\",\"X5\"] for t in common_times]\n",
    "gc2_16 = [gc_matrices2[t].loc[\"X1\",\"X6\"] for t in common_times]\n",
    "gc2_17 = [gc_matrices2[t].loc[\"X1\",\"X7\"] for t in common_times]"
   ]
  },
  {
   "cell_type": "code",
   "execution_count": 29,
   "metadata": {},
   "outputs": [],
   "source": [
    "# Shift second line to match first\n",
    "def shift_series(base_series, imputed_series):\n",
    "    \"\"\"Shift imputed_series so that its first value matches the first value of base_series.\"\"\"\n",
    "    offset = base_series[0] - imputed_series[0]\n",
    "    return [val + offset for val in imputed_series]\n",
    "\n",
    "gc2_12_shifted = shift_series(gc1_12, gc2_12)\n",
    "gc2_13_shifted = shift_series(gc1_13, gc2_13)\n",
    "gc2_14_shifted = shift_series(gc1_14, gc2_14)\n",
    "gc2_15_shifted = shift_series(gc1_15, gc2_15)\n",
    "gc2_16_shifted = shift_series(gc1_16, gc2_16)\n",
    "gc2_17_shifted = shift_series(gc1_17, gc2_17)"
   ]
  },
  {
   "cell_type": "code",
   "execution_count": 30,
   "metadata": {},
   "outputs": [
    {
     "data": {
      "image/png": "[encoded data removed]",
      "text/plain": [
       "<Figure size 1000x400 with 2 Axes>"
      ]
     },
     "metadata": {},
     "output_type": "display_data"
    }
   ],
   "source": [
    "# Create the plots\n",
    "fig, (ax1, ax2) = plt.subplots(1, 2, figsize=(10, 4), sharey=True)\n",
    "\n",
    "# LEFT PLOT: (X1,X2), (X1,X3), (X1,X4)\n",
    "ax1.plot(common_times, gc1_12, color='mediumvioletred',   linestyle='-',  label='Independent (Original)')\n",
    "ax1.plot(common_times, gc1_13, color='darkorange',        linestyle='-',  label='Dependent (Original)')\n",
    "ax1.plot(common_times, gc1_14, color='burlywood',         linestyle='-',  label='Increasing (Original)')\n",
    "ax1.plot(common_times, gc2_12_shifted, color='mediumvioletred', linestyle='--', label='Independent (Imputed)')\n",
    "ax1.plot(common_times, gc2_13_shifted, color='darkorange',      linestyle='--', label='Dependent (Imputed)')\n",
    "ax1.plot(common_times, gc2_14_shifted, color='burlywood',       linestyle='--', label='Increasing (Imputed)')\n",
    "ax1.set_xlabel('Timestep')\n",
    "ax1.set_ylabel('Graph Covariance')\n",
    "ax1.set_title('Binary Graph (Left)')\n",
    "ax1.legend(loc='upper left', fontsize='8', ncol=2)\n",
    "# RIGHT PLOT: (X1,X5), (X1,X6), (X1,X7)\n",
    "ax2.plot(common_times, gc1_15, color='palegreen',   linestyle='-', label='Decreasing (Original)')\n",
    "ax2.plot(common_times, gc1_16, color='darkturquoise', linestyle='-', label='Shifting (Original)')\n",
    "ax2.plot(common_times, gc1_17, color='mediumpurple', linestyle='-', label='Spiking (Original)')\n",
    "ax2.plot(common_times, gc2_15_shifted, color='palegreen',   linestyle='--', label='Decreasing (Imputed)')\n",
    "ax2.plot(common_times, gc2_16_shifted, color='darkturquoise', linestyle='--', label='Shifting (Imputed)')\n",
    "ax2.plot(common_times, gc2_17_shifted, color='mediumpurple', linestyle='--', label='Spiking (Imputed)')\n",
    "ax2.set_xlabel('Timestep')\n",
    "ax2.set_title('Binary Graph (Right)')\n",
    "ax2.legend(loc='upper left', fontsize='8', ncol=2)\n",
    "\n",
    "# --- GLOBAL Y-LIMITS ---\n",
    "all_data_original = np.concatenate([\n",
    "    gc1_12, gc1_13, gc1_14,\n",
    "    gc1_15, gc1_16, gc1_17\n",
    "])\n",
    "all_data_imputed = np.concatenate([\n",
    "    gc2_12_shifted, gc2_13_shifted, gc2_14_shifted,\n",
    "    gc2_15_shifted, gc2_16_shifted, gc2_17_shifted\n",
    "])\n",
    "all_data = np.concatenate([all_data_original, all_data_imputed])\n",
    "\n",
    "global_min = np.min(all_data)\n",
    "global_max = np.max(all_data)\n",
    "data_range = global_max - global_min\n",
    "margin = 0.4 * data_range\n",
    "y_lower = global_min - margin\n",
    "y_upper = global_max + margin\n",
    "\n",
    "ax1.set_ylim(y_lower, y_upper)\n",
    "ax2.set_ylim(y_lower, y_upper)\n",
    "\n",
    "plt.tight_layout()\n",
    "plt.show()"
   ]
  },
  {
   "cell_type": "code",
   "execution_count": 62,
   "metadata": {},
   "outputs": [],
   "source": [
    "df_true = pd.read_csv(r\"C:\\Users\\ryanr\\Desktop\\anti-trafficking\\simple_gen_data.csv\") # Original \"ground truth\"\n",
    "df_imputed = pd.read_csv(r\"C:\\Users\\ryanr\\Desktop\\anti-trafficking\\simple_gen_logreg_imputation.csv\") # Imputed dataset\n",
    "# df_imputed = pd.read_csv(r\"C:\\Users\\ryanr\\Desktop\\anti-trafficking\\simple_gen_probability_imputation.csv\") # Imputed dataset\n"
   ]
  },
  {
   "cell_type": "code",
   "execution_count": 63,
   "metadata": {},
   "outputs": [
    {
     "name": "stdout",
     "output_type": "stream",
     "text": [
      "Percentage of 0s and 1s in original dataset (per variable):\n",
      "X1: 0 -> 80.40%, 1 -> 19.60%\n",
      "X2: 0 -> 89.94%, 1 -> 10.05%\n",
      "X3: 0 -> 82.41%, 1 -> 17.59%\n",
      "X4: 0 -> 89.21%, 1 -> 10.79%\n",
      "X5: 0 -> 91.30%, 1 -> 8.70%\n",
      "X6: 0 -> 90.16%, 1 -> 9.84%\n",
      "X7: 0 -> 88.91%, 1 -> 11.09%\n"
     ]
    }
   ],
   "source": [
    "cols = ['X1', 'X2', 'X3', 'X4', 'X5', 'X6', 'X7']\n",
    "\n",
    "assert df_true.shape[0] == df_imputed.shape[0], \"Dataframes do not have the same number of rows\"\n",
    "assert all(df_true['t'] == df_imputed['t']), \"The time columns do not match row by row\"\n",
    "\n",
    "print(\"Percentage of 0s and 1s in original dataset (per variable):\")\n",
    "for col in cols:\n",
    "    pct_0 = (df_true[col] == 0).mean() * 100\n",
    "    pct_1 = (df_true[col] == 1).mean() * 100\n",
    "    print(f\"{col}: 0 -> {pct_0:.2f}%, 1 -> {pct_1:.2f}%\")"
   ]
  },
  {
   "cell_type": "code",
   "execution_count": 64,
   "metadata": {},
   "outputs": [
    {
     "name": "stdout",
     "output_type": "stream",
     "text": [
      "Global Metrics (all X columns combined):\n",
      "Concordance (Accuracy): 0.969\n",
      "Precision:               0.941\n",
      "Recall:                  0.803\n",
      "F1-Score:                0.867\n",
      "0.969, 0.941, 0.803, 0.867\n"
     ]
    }
   ],
   "source": [
    "from sklearn.metrics import accuracy_score, precision_score, recall_score, f1_score, mean_squared_error, mean_absolute_error, r2_score\n",
    "y_true = df_true[cols].values.flatten().astype(np.int64)      # Flatten 2D array into 1D\n",
    "y_imputed = df_imputed[cols].values.flatten().astype(np.int64)\n",
    "\n",
    "global_accuracy = accuracy_score(y_true, y_imputed)\n",
    "global_precision = precision_score(y_true, y_imputed, zero_division=0)\n",
    "global_recall = recall_score(y_true, y_imputed, zero_division=0)\n",
    "global_f1 = f1_score(y_true, y_imputed, zero_division=0)\n",
    "\n",
    "print(\"Global Metrics (all X columns combined):\")\n",
    "print(f\"Concordance (Accuracy): {global_accuracy:.3f}\")\n",
    "print(f\"Precision:               {global_precision:.3f}\")\n",
    "print(f\"Recall:                  {global_recall:.3f}\")\n",
    "print(f\"F1-Score:                {global_f1:.3f}\")\n",
    "\n",
    "print(f\"{global_accuracy:.3f}, {global_precision:.3f}, {global_recall:.3f}, {global_f1:.3f}\")"
   ]
  },
  {
   "cell_type": "code",
   "execution_count": 65,
   "metadata": {},
   "outputs": [],
   "source": [
    "def shift_series(base_series, imputed_series):\n",
    "    \"\"\"\n",
    "    Shift imputed_series so that its first value matches \n",
    "    the first value of base_series.\n",
    "    \"\"\"\n",
    "    if not base_series:  # if empty\n",
    "        return imputed_series\n",
    "    offset = base_series[0] - imputed_series[0]\n",
    "    return [val + offset for val in imputed_series]\n",
    "\n",
    "def mean_squared_error(series1, series2):\n",
    "    diff = np.array(series1) - np.array(series2)\n",
    "    return np.mean(diff ** 2)"
   ]
  },
  {
   "cell_type": "code",
   "execution_count": 66,
   "metadata": {},
   "outputs": [
    {
     "name": "stdout",
     "output_type": "stream",
     "text": [
      "1 - MSE for (X1,X2): 1.0000\n",
      "1 - MSE for (X1,X3): 0.9999\n",
      "1 - MSE for (X1,X4): 0.9898\n",
      "1 - MSE for (X1,X5): 0.9709\n",
      "1 - MSE for (X1,X6): 0.9808\n",
      "1 - MSE for (X1,X7): 0.9988\n",
      "\n",
      "Average (1 - MSE) across all pairs: 0.9900\n"
     ]
    }
   ],
   "source": [
    "gc_matrices1 = compute_graph_covariance(df_true, time_col=\"t\")\n",
    "gc_matrices2 = compute_graph_covariance(df_imputed, time_col=\"t\")\n",
    "\n",
    "times1 = sorted(gc_matrices1.keys())\n",
    "times2 = sorted(gc_matrices2.keys())\n",
    "common_times = sorted(set(times1) & set(times2))\n",
    "\n",
    "# Example pairs: (X1,X2), (X1,X3), etc.\n",
    "gc1_12 = [gc_matrices1[t].loc[\"X1\",\"X2\"] for t in common_times] if common_times else []\n",
    "gc1_13 = [gc_matrices1[t].loc[\"X1\",\"X3\"] for t in common_times] if common_times else []\n",
    "gc1_14 = [gc_matrices1[t].loc[\"X1\",\"X4\"] for t in common_times] if common_times else []\n",
    "gc1_15 = [gc_matrices1[t].loc[\"X1\",\"X5\"] for t in common_times] if common_times else []\n",
    "gc1_16 = [gc_matrices1[t].loc[\"X1\",\"X6\"] for t in common_times] if common_times else []\n",
    "gc1_17 = [gc_matrices1[t].loc[\"X1\",\"X7\"] for t in common_times] if common_times else []\n",
    "\n",
    "gc2_12 = [gc_matrices2[t].loc[\"X1\",\"X2\"] for t in common_times] if common_times else []\n",
    "gc2_13 = [gc_matrices2[t].loc[\"X1\",\"X3\"] for t in common_times] if common_times else []\n",
    "gc2_14 = [gc_matrices2[t].loc[\"X1\",\"X4\"] for t in common_times] if common_times else []\n",
    "gc2_15 = [gc_matrices2[t].loc[\"X1\",\"X5\"] for t in common_times] if common_times else []\n",
    "gc2_16 = [gc_matrices2[t].loc[\"X1\",\"X6\"] for t in common_times] if common_times else []\n",
    "gc2_17 = [gc_matrices2[t].loc[\"X1\",\"X7\"] for t in common_times] if common_times else []\n",
    "\n",
    "gc2_12_shifted = shift_series(gc1_12, gc2_12)\n",
    "gc2_13_shifted = shift_series(gc1_13, gc2_13)\n",
    "gc2_14_shifted = shift_series(gc1_14, gc2_14)\n",
    "gc2_15_shifted = shift_series(gc1_15, gc2_15)\n",
    "gc2_16_shifted = shift_series(gc1_16, gc2_16)\n",
    "gc2_17_shifted = shift_series(gc1_17, gc2_17)\n",
    "\n",
    "\n",
    "pairs_original = [gc1_12, gc1_13, gc1_14, gc1_15, gc1_16, gc1_17]\n",
    "pairs_imputed  = [gc2_12_shifted, gc2_13_shifted, gc2_14_shifted,\n",
    "                  gc2_15_shifted, gc2_16_shifted, gc2_17_shifted]\n",
    "pair_names = [\"(X1,X2)\", \"(X1,X3)\", \"(X1,X4)\", \"(X1,X5)\", \"(X1,X6)\", \"(X1,X7)\"]\n",
    "\n",
    "# Compute 1 - MSE for each pair\n",
    "similarity_values = []\n",
    "for orig_series, imp_series, name in zip(pairs_original, pairs_imputed, pair_names):\n",
    "    if len(orig_series) == 0 or len(imp_series) == 0:\n",
    "        print(f\"\\nNo data for pair {name}; cannot compute 1 - MSE.\")\n",
    "        similarity_values.append(np.nan)\n",
    "        continue\n",
    "    \n",
    "    mse_val = mean_squared_error(orig_series, imp_series)\n",
    "    similarity = 1 - mse_val   # 1 - MSE\n",
    "    similarity_values.append(similarity)\n",
    "    \n",
    "    print(f\"1 - MSE for {name}: {similarity:.4f}\")\n",
    "\n",
    "# Overall average of (1 - MSE) across all pairs\n",
    "valid_sims = [val for val in similarity_values if not np.isnan(val)]\n",
    "if len(valid_sims) > 0:\n",
    "    avg_similarity = np.mean(valid_sims)\n",
    "    print(f\"\\nAverage (1 - MSE) across all pairs: {avg_similarity:.4f}\")\n",
    "else:\n",
    "    print(\"\\nNo valid (1 - MSE) values to average.\")"
   ]
  },
  {
   "cell_type": "code",
   "execution_count": null,
   "metadata": {},
   "outputs": [],
   "source": []
  },
  {
   "cell_type": "code",
   "execution_count": null,
   "metadata": {},
   "outputs": [],
   "source": []
  }
 ],
 "metadata": {
  "kernelspec": {
   "display_name": "ENV",
   "language": "python",
   "name": "python3"
  },
  "language_info": {
   "codemirror_mode": {
    "name": "ipython",
    "version": 3
   },
   "file_extension": ".py",
   "mimetype": "text/x-python",
   "name": "python",
   "nbconvert_exporter": "python",
   "pygments_lexer": "ipython3",
   "version": "3.12.5"
  }
 },
 "nbformat": 4,
 "nbformat_minor": 2
}
