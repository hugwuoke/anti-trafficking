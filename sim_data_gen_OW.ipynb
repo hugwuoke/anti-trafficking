{
 "cells": [
  {
   "cell_type": "code",
   "execution_count": 9,
   "metadata": {},
   "outputs": [],
   "source": [
    "import pandas as pd\n",
    "import numpy as np"
   ]
  },
  {
   "cell_type": "markdown",
   "metadata": {},
   "source": [
    "# Determine dimensions of one-hot encoded CTDC data"
   ]
  },
  {
   "cell_type": "code",
   "execution_count": 2,
   "metadata": {},
   "outputs": [],
   "source": [
    "df = pd.read_excel(\"CTDC_global_synthetic_data_v2024.xlsx\")"
   ]
  },
  {
   "cell_type": "code",
   "execution_count": null,
   "metadata": {},
   "outputs": [
    {
     "name": "stdout",
     "output_type": "stream",
     "text": [
      "Number of unique years: 21\n",
      "Total number of variables after one-hot encoding (exc. year): 158\n",
      "Total number of samples (values) per year: 1795323.9047619049\n"
     ]
    }
   ],
   "source": [
    "unique_years = df['yearOfRegistration'].nunique()\n",
    "print(f\"Number of unique years: {unique_years}\")\n",
    "\n",
    "categorical_cols = ['gender','ageBroad','citizenship','CountryOfExploitation','traffickMonths']\n",
    "df_encoded = pd.get_dummies(df, columns=categorical_cols)\n",
    "if 'yearOfRegistration' in df_encoded.columns:\n",
    "    total_num_columns = df_encoded.drop('yearOfRegistration', axis=1).shape[1]\n",
    "else:\n",
    "    total_num_columns = df_encoded.shape[1]\n",
    "print(f\"Total number of variables after one-hot encoding (exc. year): {total_num_columns}\")\n",
    "\n",
    "total_num_samples = df_encoded.shape[0] * total_num_columns\n",
    "num_samples_per_year = total_num_samples / unique_years\n",
    "print(f\"Total number of samples (values) per year: {num_samples_per_year}\")"
   ]
  },
  {
   "cell_type": "markdown",
   "metadata": {},
   "source": [
    "# Generating simulated data (Bernoulli acc. to paper)"
   ]
  },
  {
   "cell_type": "code",
   "execution_count": 10,
   "metadata": {},
   "outputs": [],
   "source": [
    "def generate_data(n_samples=5000):\n",
    "    \"\"\"\n",
    "    Generate simulated data for time steps t=1,...,21.\n",
    "    \n",
    "    Returns:\n",
    "        data: A dictionary where each key maps to a list corresponding to the attribute values over all time steps.\n",
    "              The dictionary contains keys: \"t\", \"X1\", \"X2\", \"X3\", \"X4\", \"X5\", \"X6\", \"X7\".\n",
    "    \"\"\"\n",
    "    # Define the time steps (t = 1, 2, ..., 21)\n",
    "    time_steps = np.arange(1, 22)\n",
    "    data = {\n",
    "        \"t\": sum([list(np.repeat(t, n_samples)) for t in time_steps], start=[]),\n",
    "        \"X1\": [], \"X2\": [], \"X3\": [],\n",
    "        \"X4\": [], \"X5\": [], \"X6\": [], \"X7\": []\n",
    "    }\n",
    "\n",
    "    for t in time_steps:\n",
    "        # Normalize time: u runs from 0 (t=1) to 1 (t=21)\n",
    "        u = (t - 1) / 20.0\n",
    "\n",
    "        # --- X1t: Baseline attribute (Bernoulli(0.2)) ---\n",
    "        X1 = np.random.binomial(1, 0.2, n_samples)\n",
    "        \n",
    "        # --- X2t: Independent of X1 (Bernoulli(0.1)) ---\n",
    "        X2 = np.random.binomial(1, 0.1, n_samples)\n",
    "        \n",
    "        # --- X3t: Highly dependent on X1 ---\n",
    "        X3 = X1 * np.random.binomial(1, 0.9, n_samples)\n",
    "        \n",
    "        # --- X4t: Increasing dependence on X1 ---\n",
    "        # p4 goes from 0.2 at t=1 (u=0) to 0.9 at t=21 (u=1)\n",
    "        p4 = 0.2 + 0.7 * u\n",
    "        X4 = X1 * np.random.binomial(1, p4, n_samples)\n",
    "        \n",
    "        # --- X5t: Decreasing dependence on X1 ---\n",
    "        # p5 goes from 0.8 at t=1 (u=0) to 0.1 at t=21 (u=1)\n",
    "        p5 = 0.8 - 0.7 * u\n",
    "        X5 = X1 * np.random.binomial(1, p5, n_samples)\n",
    "        \n",
    "        # --- X6t: Shifting dependence on X1 ---\n",
    "        # For t <= 10: linearly decrease from 0.7 (t=1) to 0.1 (t=10)\n",
    "        # For t > 10: linearly increase from 0.1 (t=10) to 0.9 (t=21)\n",
    "        if t <= 10:\n",
    "            p6 = 0.7 - (t - 1) * ((0.7 - 0.1) / (10 - 1))\n",
    "        else:\n",
    "            p6 = 0.1 + (t - 10) * ((0.9 - 0.1) / (21 - 10))\n",
    "        X6 = X1 * np.random.binomial(1, p6, n_samples)\n",
    "        \n",
    "        # --- X7t: Sudden surge at the final time step ---\n",
    "        # For t < 21, X7 is independent (Bernoulli(0.1))\n",
    "        # At t == 21, X7 is dependent on X1 (Bernoulli(0.9))\n",
    "        if t < 21:\n",
    "            X7 = np.random.binomial(1, 0.1, n_samples)\n",
    "        else:  # t == 21\n",
    "            X7 = X1 * np.random.binomial(1, 0.9, n_samples)\n",
    "        \n",
    "        # Append the generated data for each attribute\n",
    "        data[\"X1\"] += list(X1)\n",
    "        data[\"X2\"] += list(X2)\n",
    "        data[\"X3\"] += list(X3)\n",
    "        data[\"X4\"] += list(X4)\n",
    "        data[\"X5\"] += list(X5)\n",
    "        data[\"X6\"] += list(X6)\n",
    "        data[\"X7\"] += list(X7)\n",
    "\n",
    "    return data"
   ]
  },
  {
   "cell_type": "code",
   "execution_count": null,
   "metadata": {},
   "outputs": [],
   "source": [
    "data = generate_data(n_samples=5000)\n",
    "df = pd.DataFrame.from_dict(data)\n",
    "df.to_csv(\"Simulated Data/simple_gen_data_new.csv\", index=False)"
   ]
  }
 ],
 "metadata": {
  "kernelspec": {
   "display_name": "base",
   "language": "python",
   "name": "python3"
  },
  "language_info": {
   "codemirror_mode": {
    "name": "ipython",
    "version": 3
   },
   "file_extension": ".py",
   "mimetype": "text/x-python",
   "name": "python",
   "nbconvert_exporter": "python",
   "pygments_lexer": "ipython3",
   "version": "3.12.2"
  }
 },
 "nbformat": 4,
 "nbformat_minor": 2
}
