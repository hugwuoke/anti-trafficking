{
 "cells": [
  {
   "cell_type": "code",
   "execution_count": null,
   "metadata": {},
   "outputs": [],
   "source": [
    "import pandas as pd\n",
    "import numpy as np\n",
    "from sklearn.metrics import mutual_info_score\n",
    "from scipy.stats import chi2_contingency\n",
    "import gower\n",
    "import pickle"
   ]
  },
  {
   "cell_type": "code",
   "execution_count": null,
   "metadata": {},
   "outputs": [],
   "source": [
    "df = pd.read_excel(\"C:/Users/HopeUgwuoke/anti trafficking/CTDC_global_synthetic_data_v2024.xlsx\")"
   ]
  },
  {
   "cell_type": "code",
   "execution_count": null,
   "metadata": {},
   "outputs": [],
   "source": [
    "#Cleaning data and seperating by year\n",
    "df['yearOfRegistration'] = pd.to_numeric(df['yearOfRegistration'], errors='coerce')\n",
    "df = df.dropna(subset=['yearOfRegistration'])\n",
    "df['yearOfRegistration'] = df['yearOfRegistration'].astype(int)\n",
    "data_by_year = {year: data for year, data in df.groupby('yearOfRegistration')}\n",
    "\n",
    "#stopping at 2014 for the sake of computational time\n",
    "data_by_year = dict(list(data_by_year.items())[:13])\n",
    "\n",
    "Adjacency_matrices= {}\n",
    "for key,data in data_by_year.items(): \n",
    "    #print(data.shape())\n",
    "    # Compute Gower's distance matrix\n",
    "    gower_dist_matrix = gower.gower_matrix(data)\n",
    "    adjacency_matrix = 1-gower_dist_matrix\n",
    "    Adjacency_matrices[key] = adjacency_matrix\n",
    "    print(key)\n",
    "\n",
    "#Saving so it only needs to be run once\n",
    "with open('adjacency_matrices.pkl', 'wb') as f:\n",
    "    pickle.dump(Adjacency_matrices, f)\n",
    "\n",
    "print('saved pickle file')"
   ]
  },
  {
   "cell_type": "code",
   "execution_count": null,
   "metadata": {},
   "outputs": [],
   "source": []
  }
 ],
 "metadata": {
  "language_info": {
   "name": "python"
  }
 },
 "nbformat": 4,
 "nbformat_minor": 2
}
