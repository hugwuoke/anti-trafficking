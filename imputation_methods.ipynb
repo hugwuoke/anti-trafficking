{
 "cells": [
  {
   "cell_type": "code",
   "execution_count": 28,
   "metadata": {},
   "outputs": [],
   "source": [
    "import pandas as pd\n",
    "import numpy as np\n",
    "import matplotlib.pyplot as plt\n",
    "from sklearn.impute import KNNImputer\n",
    "from sklearn.impute import IterativeImputer\n",
    "from sklearn.linear_model import LogisticRegression"
   ]
  },
  {
   "cell_type": "code",
   "execution_count": 29,
   "metadata": {},
   "outputs": [],
   "source": [
    "input_file = \"../simple_gen_missing_data.csv\"\n",
    "\n",
    "df = pd.read_csv(input_file)\n",
    "vars = df.columns[1:]"
   ]
  },
  {
   "cell_type": "markdown",
   "metadata": {},
   "source": [
    "# Mode Imputation"
   ]
  },
  {
   "cell_type": "code",
   "execution_count": 17,
   "metadata": {},
   "outputs": [
    {
     "name": "stdout",
     "output_type": "stream",
     "text": [
      "Variable X1: mode value 0.0\n",
      "Variable X2: mode value 0.0\n",
      "Variable X3: mode value 0.0\n",
      "Variable X4: mode value 0.0\n",
      "Variable X5: mode value 0.0\n",
      "Variable X6: mode value 0.0\n",
      "Variable X7: mode value 0.0\n"
     ]
    },
    {
     "name": "stderr",
     "output_type": "stream",
     "text": [
      "/var/folders/pc/z0msnbbj10vdbs6czbvpsmy40000gn/T/ipykernel_33675/2353380154.py:8: FutureWarning: A value is trying to be set on a copy of a DataFrame or Series through chained assignment using an inplace method.\n",
      "The behavior will change in pandas 3.0. This inplace method will never work because the intermediate object on which we are setting values always behaves as a copy.\n",
      "\n",
      "For example, when doing 'df[col].method(value, inplace=True)', try using 'df.method({col: value}, inplace=True)' or df[col] = df[col].method(value) instead, to perform the operation inplace on the original object.\n",
      "\n",
      "\n",
      "  df_popular_imp[var].fillna(mode_value, inplace=True)\n"
     ]
    }
   ],
   "source": [
    "# Imputation by most common value per variable (aka popularity)\n",
    "output_file = \"../simple_gen_popularity_imputation.csv\"\n",
    "df_popular_imp = df.copy()\n",
    "\n",
    "for var in vars:\n",
    "    mode_value = df_popular_imp[var].mode()[0]\n",
    "    print(f'Variable {var}: mode value {mode_value}')\n",
    "    df_popular_imp[var].fillna(mode_value, inplace=True)\n",
    "\n",
    "df_popular_imp.to_csv(output_file, index=False, na_rep='')"
   ]
  },
  {
   "cell_type": "markdown",
   "metadata": {},
   "source": [
    "# Imputation by Prevalence"
   ]
  },
  {
   "cell_type": "code",
   "execution_count": null,
   "metadata": {},
   "outputs": [
    {
     "name": "stdout",
     "output_type": "stream",
     "text": [
      "Variable X1: values [0.0, 1.0] probability [0.8012985772939941, 0.1987014227060059]\n",
      "Variable X2: values [0.0, 1.0] probability [0.8993218709953011, 0.10067812900469884]\n",
      "Variable X3: values [0.0, 1.0] probability [0.8254610462928115, 0.17453895370718855]\n",
      "Variable X4: values [0.0, 1.0] probability [0.8927264744621689, 0.10727352553783111]\n",
      "Variable X5: values [0.0, 1.0] probability [0.9153321081648726, 0.08466789183512732]\n",
      "Variable X6: values [0.0, 1.0] probability [0.9014970916372652, 0.09850290836273481]\n",
      "Variable X7: values [0.0, 1.0] probability [0.8876616379310345, 0.11233836206896551]\n"
     ]
    }
   ],
   "source": [
    "# Imputation by probability distribution of existing values\n",
    "output_file = \"../simple_gen_probability_imputation.csv\"\n",
    "df_prob_imp = df.copy()\n",
    "\n",
    "for var in vars:\n",
    "    # Get the distribution of non-missing values\n",
    "    freq_table = df_prob_imp[var].value_counts(dropna=True)\n",
    "    distinct_vals = freq_table.index.to_list()\n",
    "    probabilities = (freq_table / freq_table.sum()).to_list()\n",
    "\n",
    "    print(f'Variable {var}: values {distinct_vals} probability {probabilities}')\n",
    "    \n",
    "    # Identify which rows are missing\n",
    "    missing_mask = df_prob_imp[var].isna()\n",
    "    n_missing = missing_mask.sum()\n",
    "    \n",
    "    # Randomly sample from the distinct values, using the same distribution\n",
    "    random_draws = np.random.choice(distinct_vals, size=n_missing, p=probabilities)\n",
    "    \n",
    "    # Fill in the missing values\n",
    "    df_prob_imp.loc[missing_mask, var] = random_draws\n",
    "\n",
    "df_prob_imp.to_csv(output_file, index=False)"
   ]
  },
  {
   "cell_type": "markdown",
   "metadata": {},
   "source": [
    "# Logistic Regression Imputation"
   ]
  },
  {
   "cell_type": "code",
   "execution_count": null,
   "metadata": {},
   "outputs": [],
   "source": [
    "output_file = \"../simple_gen_logreg_imputation.csv\"\n",
    "\n",
    "imputer = IterativeImputer(\n",
    "    estimator=LogisticRegression(),\n",
    "    max_iter=10,\n",
    "    random_state=0\n",
    ")\n",
    "\n",
    "df_imputed_array = imputer.fit_transform(df)\n",
    "\n",
    "df_logreg_imputed = pd.DataFrame(df_imputed_array, columns=df.columns)\n",
    "df_logreg_imputed.to_csv(output_file, index=False)"
   ]
  },
  {
   "cell_type": "markdown",
   "metadata": {},
   "source": [
    "# kNN Imputation"
   ]
  },
  {
   "cell_type": "code",
   "execution_count": null,
   "metadata": {},
   "outputs": [],
   "source": [
    "output_file = \"../simple_gen_kNN_imputation.csv\"\n",
    "\n",
    "# Create and fit the KNNImputer\n",
    "imputer = KNNImputer(n_neighbors=4)\n",
    "imputed_data = imputer.fit_transform(df)\n",
    "\n",
    "df_kNN_imputed = pd.DataFrame(imputed_data, columns=df.columns)\n",
    "df_kNN_imputed.to_csv(output_file, index=False)"
   ]
  }
 ],
 "metadata": {
  "kernelspec": {
   "display_name": "base",
   "language": "python",
   "name": "python3"
  },
  "language_info": {
   "codemirror_mode": {
    "name": "ipython",
    "version": 3
   },
   "file_extension": ".py",
   "mimetype": "text/x-python",
   "name": "python",
   "nbconvert_exporter": "python",
   "pygments_lexer": "ipython3",
   "version": "3.12.2"
  }
 },
 "nbformat": 4,
 "nbformat_minor": 2
}
