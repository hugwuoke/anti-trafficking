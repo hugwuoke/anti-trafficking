{
 "cells": [
  {
   "cell_type": "code",
   "execution_count": 1,
   "metadata": {},
   "outputs": [],
   "source": [
    "import pandas as pd\n",
    "import numpy as np\n",
    "import random"
   ]
  },
  {
   "cell_type": "code",
   "execution_count": 3,
   "metadata": {},
   "outputs": [
    {
     "name": "stdout",
     "output_type": "stream",
     "text": [
      "=== Single Variables ===\n",
      "gender: 20.15% missing\n",
      "ageBroad: 47.49% missing\n",
      "traffickMonths: 90.72% missing\n",
      "\n",
      "=== Variable Groups ===\n",
      "countryGroup: 6.33% missing\n",
      "meansGroup: 61.85% missing\n",
      "exploitGroup: 31.66% missing\n",
      "recruiterGroup: 74.14% missing\n"
     ]
    }
   ],
   "source": [
    "# First calculate % missing data from CTDA data by variables / variable groups\n",
    "ctda_df = pd.read_excel(\"CTDC_global_synthetic_data_v2024.xlsx\")\n",
    "\n",
    "single_vars = [\n",
    "    \"gender\",\n",
    "    \"ageBroad\",\n",
    "    \"traffickMonths\"\n",
    "]\n",
    "\n",
    "group_vars = {\n",
    "    \"countryGroup\": [\n",
    "        \"citizenship\",\n",
    "        \"CountryOfExploitation\"\n",
    "    ],\n",
    "    \"meansGroup\": [\n",
    "        \"meansDebtBondageEarnings\",\n",
    "        \"meansThreats\",\n",
    "        \"meansAbusePsyPhySex\",\n",
    "        \"meansFalsePromises\",\n",
    "        \"meansDrugsAlcohol\",\n",
    "        \"meansDenyBasicNeeds\",\n",
    "        \"meansExcessiveWorkHours\",\n",
    "        \"meansWithholdDocs\"\n",
    "    ],\n",
    "    \"exploitGroup\": [\n",
    "        \"isForcedLabour\",\n",
    "        \"isSexualExploit\",\n",
    "        \"isOtherExploit\",\n",
    "        \"typeOfLabourAgriculture\",\n",
    "        \"typeOfLabourConstruction\",\n",
    "        \"typeOfLabourDomesticWork\",\n",
    "        \"typeOfLabourHospitality\",\n",
    "        \"typeOfSexProstitution\",\n",
    "        \"typeOfSexPornography\"\n",
    "    ],\n",
    "    \"recruiterGroup\": [\n",
    "        \"recruiterRelationIntimatePartner\",\n",
    "        \"recruiterRelationFriend\",\n",
    "        \"recruiterRelationFamily\",\n",
    "        \"recruiterRelationOther\"\n",
    "    ]\n",
    "}\n",
    "\n",
    "# Function to calculate percent missing for a single column\n",
    "def percent_missing_single(col_name):\n",
    "    return ctda_df[col_name].isna().mean() * 100\n",
    "\n",
    "# Calculate percent missing for a group of columns\n",
    "def percent_missing_group(col_names):\n",
    "    return ctda_df[col_names].isna().all(axis=1).mean() * 100\n",
    "\n",
    "print(\"=== Single Variables ===\")\n",
    "for var in single_vars:\n",
    "    pm = percent_missing_single(var)\n",
    "    print(f\"{var}: {pm:.2f}% missing\")\n",
    "\n",
    "print(\"\\n=== Variable Groups ===\")\n",
    "for group_name, cols in group_vars.items():\n",
    "    pm = percent_missing_group(cols)\n",
    "    print(f\"{group_name}: {pm:.2f}% missing\")"
   ]
  },
  {
   "cell_type": "code",
   "execution_count": 5,
   "metadata": {},
   "outputs": [
    {
     "name": "stdout",
     "output_type": "stream",
     "text": [
      "Variable X1 has probability 0.6185 of missing values\n",
      "Variable X2 has probability 0.4749 of missing values\n",
      "Variable X3 has probability 0.7414 of missing values\n",
      "Variable X4 has probability 0.3166 of missing values\n",
      "Variable X5 has probability 0.0633 of missing values\n",
      "Variable X6 has probability 0.2015 of missing values\n",
      "Variable X7 has probability 0.9072 of missing values\n"
     ]
    }
   ],
   "source": [
    "# Apply these missing % randomly to simulated dataset\n",
    "input_file = \"Simulated Data/simple_gen_data_new.csv\"\n",
    "output_file = \"Simulated Data/simple_gen_missing_data_new.csv\"\n",
    "\n",
    "df = pd.read_csv(input_file)\n",
    "\n",
    "prob_list = [0.2015, 0.4749, 0.9072, 0.0633, 0.6185, 0.3166, 0.7414]\n",
    "random.shuffle(prob_list)\n",
    "\n",
    "columns = [\"X1\", \"X2\", \"X3\", \"X4\", \"X5\", \"X6\", \"X7\"]\n",
    "\n",
    "for col, p in zip(columns, prob_list):\n",
    "    # Generate random values\n",
    "    random_values = np.random.rand(len(df))\n",
    "    # Where random value < p, set that cell to NaN\n",
    "    df.loc[random_values < p, col] = np.nan\n",
    "    print(f'Variable {col} has probability {p} of missing values')\n",
    "\n",
    "df.to_csv(output_file, index=False, na_rep='')"
   ]
  },
  {
   "cell_type": "code",
   "execution_count": 6,
   "metadata": {},
   "outputs": [
    {
     "name": "stdout",
     "output_type": "stream",
     "text": [
      "Variable X1: values [0, 1] probability [0.8017142857142857, 0.1982857142857143]\n",
      "Variable X2: values [0, 1] probability [0.8992857142857142, 0.10071428571428571]\n",
      "Variable X3: values [0, 1] probability [0.8210761904761905, 0.1789238095238095]\n",
      "Variable X4: values [0, 1] probability [0.8909238095238096, 0.10907619047619048]\n",
      "Variable X5: values [0, 1] probability [0.9106952380952381, 0.0893047619047619]\n",
      "Variable X6: values [0, 1] probability [0.9067714285714286, 0.09322857142857142]\n",
      "Variable X7: values [0, 1] probability [0.8985809523809524, 0.10141904761904762]\n"
     ]
    }
   ],
   "source": [
    "# Check percentage of 0's and 1's in simulated data by variable\n",
    "input_file = \"Simulated Data/simple_gen_data_new.csv\"\n",
    "df = pd.read_csv(input_file)\n",
    "\n",
    "vars = df.columns[1:]\n",
    "\n",
    "for var in vars:\n",
    "    # Get the distribution of non-missing values\n",
    "    freq_table = df[var].value_counts(dropna=True)\n",
    "    \n",
    "    # Distinct values and their probabilities\n",
    "    distinct_vals = freq_table.index.to_list()\n",
    "    probabilities = (freq_table / freq_table.sum()).to_list()\n",
    "\n",
    "    print(f'Variable {var}: values {distinct_vals} probability {probabilities}')"
   ]
  }
 ],
 "metadata": {
  "kernelspec": {
   "display_name": "base",
   "language": "python",
   "name": "python3"
  },
  "language_info": {
   "codemirror_mode": {
    "name": "ipython",
    "version": 3
   },
   "file_extension": ".py",
   "mimetype": "text/x-python",
   "name": "python",
   "nbconvert_exporter": "python",
   "pygments_lexer": "ipython3",
   "version": "3.12.2"
  }
 },
 "nbformat": 4,
 "nbformat_minor": 2
}
